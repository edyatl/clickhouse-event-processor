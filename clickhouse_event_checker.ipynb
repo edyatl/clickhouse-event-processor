{
 "cells": [
  {
   "cell_type": "markdown",
   "id": "4ec5f735-556a-4532-b51c-a77771f146b5",
   "metadata": {},
   "source": [
    "## ClickHouse Event Monitoring and GET Requests"
   ]
  },
  {
   "cell_type": "markdown",
   "id": "fa54f832-d4c9-4b7c-b4f1-6da6e7efbdad",
   "metadata": {},
   "source": [
    "> Developed by [@edyatl](https://github.com/edyatl) January 2024 <edyatl@yandex.ru>"
   ]
  },
  {
   "cell_type": "code",
   "execution_count": 1,
   "id": "51d5a4f1-38ff-41a9-8cce-6a6df8f17d36",
   "metadata": {},
   "outputs": [
    {
     "data": {
      "application/javascript": [
       "\n",
       "            setTimeout(function() {\n",
       "                var nbb_cell_id = 1;\n",
       "                var nbb_unformatted_code = \"# Load Jupyter extension for auto correction coding style based on Black Lib\\n%load_ext nb_black\";\n",
       "                var nbb_formatted_code = \"# Load Jupyter extension for auto correction coding style based on Black Lib\\n%load_ext nb_black\";\n",
       "                var nbb_cells = Jupyter.notebook.get_cells();\n",
       "                for (var i = 0; i < nbb_cells.length; ++i) {\n",
       "                    if (nbb_cells[i].input_prompt_number == nbb_cell_id) {\n",
       "                        if (nbb_cells[i].get_text() == nbb_unformatted_code) {\n",
       "                             nbb_cells[i].set_text(nbb_formatted_code);\n",
       "                        }\n",
       "                        break;\n",
       "                    }\n",
       "                }\n",
       "            }, 500);\n",
       "            "
      ],
      "text/plain": [
       "<IPython.core.display.Javascript object>"
      ]
     },
     "metadata": {},
     "output_type": "display_data"
    }
   ],
   "source": [
    "# Load Jupyter extension for auto correction coding style based on Black Lib\n",
    "%load_ext nb_black"
   ]
  },
  {
   "cell_type": "code",
   "execution_count": 2,
   "id": "76c754ec-003b-4fe1-bf9c-991cf0706f02",
   "metadata": {},
   "outputs": [
    {
     "data": {
      "application/javascript": [
       "\n",
       "            setTimeout(function() {\n",
       "                var nbb_cell_id = 2;\n",
       "                var nbb_unformatted_code = \"# Install a pip package in the current Jupyter kernel\\n# import sys\\n\\n# !{sys.executable} -m pip install -U pandas\";\n",
       "                var nbb_formatted_code = \"# Install a pip package in the current Jupyter kernel\\n# import sys\\n\\n# !{sys.executable} -m pip install -U pandas\";\n",
       "                var nbb_cells = Jupyter.notebook.get_cells();\n",
       "                for (var i = 0; i < nbb_cells.length; ++i) {\n",
       "                    if (nbb_cells[i].input_prompt_number == nbb_cell_id) {\n",
       "                        if (nbb_cells[i].get_text() == nbb_unformatted_code) {\n",
       "                             nbb_cells[i].set_text(nbb_formatted_code);\n",
       "                        }\n",
       "                        break;\n",
       "                    }\n",
       "                }\n",
       "            }, 500);\n",
       "            "
      ],
      "text/plain": [
       "<IPython.core.display.Javascript object>"
      ]
     },
     "metadata": {},
     "output_type": "display_data"
    }
   ],
   "source": [
    "# Install a pip package in the current Jupyter kernel\n",
    "# import sys\n",
    "\n",
    "# !{sys.executable} -m pip install -U pandas"
   ]
  },
  {
   "cell_type": "code",
   "execution_count": 3,
   "id": "7c951373-0fd9-42c0-bc6b-fd36114a3154",
   "metadata": {},
   "outputs": [
    {
     "data": {
      "application/javascript": [
       "\n",
       "            setTimeout(function() {\n",
       "                var nbb_cell_id = 3;\n",
       "                var nbb_unformatted_code = \"import requests\\nimport pandas as pd\\nimport json\\nimport os\\n\\nimport logging\\nfrom config import Configuration as cfg\\nimport clickhouse_connect\";\n",
       "                var nbb_formatted_code = \"import requests\\nimport pandas as pd\\nimport json\\nimport os\\n\\nimport logging\\nfrom config import Configuration as cfg\\nimport clickhouse_connect\";\n",
       "                var nbb_cells = Jupyter.notebook.get_cells();\n",
       "                for (var i = 0; i < nbb_cells.length; ++i) {\n",
       "                    if (nbb_cells[i].input_prompt_number == nbb_cell_id) {\n",
       "                        if (nbb_cells[i].get_text() == nbb_unformatted_code) {\n",
       "                             nbb_cells[i].set_text(nbb_formatted_code);\n",
       "                        }\n",
       "                        break;\n",
       "                    }\n",
       "                }\n",
       "            }, 500);\n",
       "            "
      ],
      "text/plain": [
       "<IPython.core.display.Javascript object>"
      ]
     },
     "metadata": {},
     "output_type": "display_data"
    }
   ],
   "source": [
    "import requests\n",
    "import pandas as pd\n",
    "import json\n",
    "import os\n",
    "\n",
    "import logging\n",
    "from config import Configuration as cfg\n",
    "import clickhouse_connect"
   ]
  },
  {
   "cell_type": "code",
   "execution_count": 4,
   "id": "18a0dee9-9262-4749-aac3-039d8294d0e6",
   "metadata": {},
   "outputs": [
    {
     "data": {
      "application/javascript": [
       "\n",
       "            setTimeout(function() {\n",
       "                var nbb_cell_id = 4;\n",
       "                var nbb_unformatted_code = \"def get_cls_logger(cls: str) -> object:\\n    \\\"\\\"\\\"\\n    Logger config. Sets handler to a file, formater and logging level.\\n\\n    :param cls:\\n        str Name of class where logger calling.\\n    :return:\\n        Returns Logger instans.\\n    \\\"\\\"\\\"\\n    logger = logging.getLogger(cls)\\n    if not logger.handlers:\\n        handler = logging.FileHandler(cfg.LOG_FILE)\\n        formatter = logging.Formatter(\\n            \\\"%(asctime)s %(name)-16s [%(levelname)s] %(message)s\\\", \\\"%Y-%m-%d %H:%M:%S\\\"\\n        )\\n        handler.setFormatter(formatter)\\n        logger.addHandler(handler)\\n    logger.setLevel(logging.DEBUG if cfg.DEBUG else logging.INFO)\\n    return logger\";\n",
       "                var nbb_formatted_code = \"def get_cls_logger(cls: str) -> object:\\n    \\\"\\\"\\\"\\n    Logger config. Sets handler to a file, formater and logging level.\\n\\n    :param cls:\\n        str Name of class where logger calling.\\n    :return:\\n        Returns Logger instans.\\n    \\\"\\\"\\\"\\n    logger = logging.getLogger(cls)\\n    if not logger.handlers:\\n        handler = logging.FileHandler(cfg.LOG_FILE)\\n        formatter = logging.Formatter(\\n            \\\"%(asctime)s %(name)-16s [%(levelname)s] %(message)s\\\", \\\"%Y-%m-%d %H:%M:%S\\\"\\n        )\\n        handler.setFormatter(formatter)\\n        logger.addHandler(handler)\\n    logger.setLevel(logging.DEBUG if cfg.DEBUG else logging.INFO)\\n    return logger\";\n",
       "                var nbb_cells = Jupyter.notebook.get_cells();\n",
       "                for (var i = 0; i < nbb_cells.length; ++i) {\n",
       "                    if (nbb_cells[i].input_prompt_number == nbb_cell_id) {\n",
       "                        if (nbb_cells[i].get_text() == nbb_unformatted_code) {\n",
       "                             nbb_cells[i].set_text(nbb_formatted_code);\n",
       "                        }\n",
       "                        break;\n",
       "                    }\n",
       "                }\n",
       "            }, 500);\n",
       "            "
      ],
      "text/plain": [
       "<IPython.core.display.Javascript object>"
      ]
     },
     "metadata": {},
     "output_type": "display_data"
    }
   ],
   "source": [
    "def get_cls_logger(cls: str) -> object:\n",
    "    \"\"\"\n",
    "    Logger config. Sets handler to a file, formater and logging level.\n",
    "\n",
    "    :param cls:\n",
    "        str Name of class where logger calling.\n",
    "    :return:\n",
    "        Returns Logger instans.\n",
    "    \"\"\"\n",
    "    logger = logging.getLogger(cls)\n",
    "    if not logger.handlers:\n",
    "        handler = logging.FileHandler(cfg.LOG_FILE)\n",
    "        formatter = logging.Formatter(\n",
    "            \"%(asctime)s %(name)-16s [%(levelname)s] %(message)s\", \"%Y-%m-%d %H:%M:%S\"\n",
    "        )\n",
    "        handler.setFormatter(formatter)\n",
    "        logger.addHandler(handler)\n",
    "    logger.setLevel(logging.DEBUG if cfg.DEBUG else logging.INFO)\n",
    "    return logger"
   ]
  },
  {
   "cell_type": "code",
   "execution_count": 5,
   "id": "789d4740-d428-4185-a246-be1032143415",
   "metadata": {},
   "outputs": [
    {
     "data": {
      "application/javascript": [
       "\n",
       "            setTimeout(function() {\n",
       "                var nbb_cell_id = 5;\n",
       "                var nbb_unformatted_code = \"class ClickHouseConnector:\\n    logger = get_cls_logger(__qualname__)\\n    json_file_path = os.path.join(os.path.abspath(''), 'var_storage.json')\\n\\n    \\n    def __init__(self, **kwargs):\\n        \\\"\\\"\\\"\\n        Constructor func, gets credentials and makes an instance.\\n        \\\"\\\"\\\"\\n        self.host = kwargs.get(\\\"host\\\") or \\\"\\\"\\n        self.user = kwargs.get(\\\"user\\\") or \\\"\\\"\\n        self.password = kwargs.get(\\\"password\\\") or \\\"\\\"\\n        self.port = kwargs.get(\\\"port\\\") or \\\"\\\"\\n        \\n        self.client = clickhouse_connect.get_client(\\n            host=self.host,\\n            user=self.user,\\n            password=self.password,\\n            port=self.port\\n        )\\n        \\n        self.query_cnt = \\\"\\\"\\\"SELECT count()\\n            FROM analytics.appsflyer_export \\n            WHERE media_source = 'Popunder'\\n            AND event_name IN ('install', 'af_start_trial', 'af_subscribe')\\\"\\\"\\\"\\n        \\n        self.query_str = \\\"\\\"\\\"SELECT event_time,event_name,af_sub1\\n            FROM analytics.appsflyer_export \\n            WHERE media_source = 'Popunder'\\n            AND event_name IN ('install', 'af_start_trial', 'af_subscribe')\\n            ORDER BY event_time DESC\\n            LIMIT {dev:int}\\\"\\\"\\\"\\n        \\n        # Check if the JSON file exists\\n        if os.path.exists(self.json_file_path):\\n            # Read the existing JSON file\\n            with open(self.json_file_path, 'r') as file:\\n                stored_values = json.load(file)\\n                self.prev_rows_number = stored_values.get('prev_rows_number', 0)\\n        else:\\n            self.prev_rows_number = 0\\n        self.logger.debug(\\\"Make an instance of %s class\\\", self.__class__.__name__)\\n    \\n    def __del__(self):\\n        self.client.close()\\n\\n    def fetch_new_events(self) -> pd.DataFrame:\\n        cnt = int(self.client.command(self.query_cnt))\\n        dev = cnt - self.prev_rows_number\\n        if dev == 0:\\n            return pd.DataFrame()\\n        parameters = {'dev': dev}\\n        result = self.client.query(self.query_str, parameters=parameters)\\n        with open(self.json_file_path, 'w') as file:\\n            json.dump({'prev_rows_number': cnt}, file)\\n        return pd.DataFrame(result.result_rows, columns=result.column_names)\";\n",
       "                var nbb_formatted_code = \"class ClickHouseConnector:\\n    logger = get_cls_logger(__qualname__)\\n    json_file_path = os.path.join(os.path.abspath(\\\"\\\"), \\\"var_storage.json\\\")\\n\\n    def __init__(self, **kwargs):\\n        \\\"\\\"\\\"\\n        Constructor func, gets credentials and makes an instance.\\n        \\\"\\\"\\\"\\n        self.host = kwargs.get(\\\"host\\\") or \\\"\\\"\\n        self.user = kwargs.get(\\\"user\\\") or \\\"\\\"\\n        self.password = kwargs.get(\\\"password\\\") or \\\"\\\"\\n        self.port = kwargs.get(\\\"port\\\") or \\\"\\\"\\n\\n        self.client = clickhouse_connect.get_client(\\n            host=self.host, user=self.user, password=self.password, port=self.port\\n        )\\n\\n        self.query_cnt = \\\"\\\"\\\"SELECT count()\\n            FROM analytics.appsflyer_export \\n            WHERE media_source = 'Popunder'\\n            AND event_name IN ('install', 'af_start_trial', 'af_subscribe')\\\"\\\"\\\"\\n\\n        self.query_str = \\\"\\\"\\\"SELECT event_time,event_name,af_sub1\\n            FROM analytics.appsflyer_export \\n            WHERE media_source = 'Popunder'\\n            AND event_name IN ('install', 'af_start_trial', 'af_subscribe')\\n            ORDER BY event_time DESC\\n            LIMIT {dev:int}\\\"\\\"\\\"\\n\\n        # Check if the JSON file exists\\n        if os.path.exists(self.json_file_path):\\n            # Read the existing JSON file\\n            with open(self.json_file_path, \\\"r\\\") as file:\\n                stored_values = json.load(file)\\n                self.prev_rows_number = stored_values.get(\\\"prev_rows_number\\\", 0)\\n        else:\\n            self.prev_rows_number = 0\\n        self.logger.debug(\\\"Make an instance of %s class\\\", self.__class__.__name__)\\n\\n    def __del__(self):\\n        self.client.close()\\n\\n    def fetch_new_events(self) -> pd.DataFrame:\\n        cnt = int(self.client.command(self.query_cnt))\\n        dev = cnt - self.prev_rows_number\\n        if dev == 0:\\n            return pd.DataFrame()\\n        parameters = {\\\"dev\\\": dev}\\n        result = self.client.query(self.query_str, parameters=parameters)\\n        with open(self.json_file_path, \\\"w\\\") as file:\\n            json.dump({\\\"prev_rows_number\\\": cnt}, file)\\n        return pd.DataFrame(result.result_rows, columns=result.column_names)\";\n",
       "                var nbb_cells = Jupyter.notebook.get_cells();\n",
       "                for (var i = 0; i < nbb_cells.length; ++i) {\n",
       "                    if (nbb_cells[i].input_prompt_number == nbb_cell_id) {\n",
       "                        if (nbb_cells[i].get_text() == nbb_unformatted_code) {\n",
       "                             nbb_cells[i].set_text(nbb_formatted_code);\n",
       "                        }\n",
       "                        break;\n",
       "                    }\n",
       "                }\n",
       "            }, 500);\n",
       "            "
      ],
      "text/plain": [
       "<IPython.core.display.Javascript object>"
      ]
     },
     "metadata": {},
     "output_type": "display_data"
    }
   ],
   "source": [
    "class ClickHouseConnector:\n",
    "    logger = get_cls_logger(__qualname__)\n",
    "    json_file_path = os.path.join(os.path.abspath(''), 'var_storage.json')\n",
    "\n",
    "    \n",
    "    def __init__(self, **kwargs):\n",
    "        \"\"\"\n",
    "        Constructor func, gets credentials and makes an instance.\n",
    "        \"\"\"\n",
    "        self.host = kwargs.get(\"host\") or \"\"\n",
    "        self.user = kwargs.get(\"user\") or \"\"\n",
    "        self.password = kwargs.get(\"password\") or \"\"\n",
    "        self.port = kwargs.get(\"port\") or \"\"\n",
    "        \n",
    "        self.client = clickhouse_connect.get_client(\n",
    "            host=self.host,\n",
    "            user=self.user,\n",
    "            password=self.password,\n",
    "            port=self.port\n",
    "        )\n",
    "        \n",
    "        self.query_cnt = \"\"\"SELECT count()\n",
    "            FROM analytics.appsflyer_export \n",
    "            WHERE media_source = 'Popunder'\n",
    "            AND event_name IN ('install', 'af_start_trial', 'af_subscribe')\"\"\"\n",
    "        \n",
    "        self.query_str = \"\"\"SELECT event_time,event_name,af_sub1\n",
    "            FROM analytics.appsflyer_export \n",
    "            WHERE media_source = 'Popunder'\n",
    "            AND event_name IN ('install', 'af_start_trial', 'af_subscribe')\n",
    "            ORDER BY event_time DESC\n",
    "            LIMIT {dev:int}\"\"\"\n",
    "        \n",
    "        # Check if the JSON file exists\n",
    "        if os.path.exists(self.json_file_path):\n",
    "            # Read the existing JSON file\n",
    "            with open(self.json_file_path, 'r') as file:\n",
    "                stored_values = json.load(file)\n",
    "                self.prev_rows_number = stored_values.get('prev_rows_number', 0)\n",
    "        else:\n",
    "            self.prev_rows_number = 0\n",
    "        self.logger.debug(\"Make an instance of %s class\", self.__class__.__name__)\n",
    "    \n",
    "    def __del__(self):\n",
    "        self.client.close()\n",
    "\n",
    "    def fetch_new_events(self) -> pd.DataFrame:\n",
    "        cnt = int(self.client.command(self.query_cnt))\n",
    "        dev = cnt - self.prev_rows_number\n",
    "        if dev == 0:\n",
    "            return pd.DataFrame()\n",
    "        parameters = {'dev': dev}\n",
    "        result = self.client.query(self.query_str, parameters=parameters)\n",
    "        with open(self.json_file_path, 'w') as file:\n",
    "            json.dump({'prev_rows_number': cnt}, file)\n",
    "        return pd.DataFrame(result.result_rows, columns=result.column_names)"
   ]
  },
  {
   "cell_type": "code",
   "execution_count": 6,
   "id": "e93f287f-e3a5-4aaa-b943-1da6b98b626b",
   "metadata": {},
   "outputs": [
    {
     "data": {
      "application/javascript": [
       "\n",
       "            setTimeout(function() {\n",
       "                var nbb_cell_id = 6;\n",
       "                var nbb_unformatted_code = \"class EventProcessor:\\n    BASE_URL = cfg.BASE_URL\\n    logger = get_cls_logger(__qualname__)\\n    \\n    def __init__(self, **kwargs):\\n        \\\"\\\"\\\"\\n        Constructor func, gets events DataFrame and makes an instance.\\n        \\\"\\\"\\\"\\n        self.events_df = kwargs.get(\\\"events\\\")\\n        self.install = self.events_df[self.events_df['event_name'] == 'install']\\n        self.trial = self.events_df[self.events_df['event_name'] == 'af_start_trial']\\n        self.activation = self.events_df[self.events_df['event_name'] == 'af_subscribe']\\n        self.logger.debug(\\\"Make an instance of %s class\\\", self.__class__.__name__)\\n\\n    def requests_call(\\n        self, \\n        verb: str, \\n        url: str, \\n        params=None, \\n        void=False, \\n        **kwargs) -> tuple:\\n        \\\"\\\"\\\"\\n        Wraping func for requests with errors handling.\\n\\n        :param verb:\\n            str Method of request ``get`` or ``post``.\\n        :param url:\\n            str URL to connect.\\n        :return:\\n            Returns a tuple of response object and error.\\n            If an error occurs, the response will be empty\\n            and vice versa otherwise.\\n        \\\"\\\"\\\"\\n        r: object = None\\n        error: str = None\\n        retries: int = 10\\n        delay: int = 6\\n\\n        for retry in range(retries):\\n            try:\\n                self.logger.info(\\\"Try %s request %s\\\", verb, url)\\n                r = requests.request(verb, url, params=params)\\n                r.raise_for_status()\\n                self.logger.info(\\n                    \\\"Get answer with status code: %s %s\\\", r.status_code, r.reason\\n                )\\n                return r, error\\n            except requests.exceptions.HTTPError as errh:\\n                self.logger.error(\\\"Http Error: %s\\\", errh)\\n                error = errh\\n                self.logger.info(\\n                    \\\"Don't give up! Trying to reconnect, retry %s of %s\\\",\\n                    retry + 1,\\n                    retries,\\n                )\\n                time.sleep(delay)\\n            except requests.exceptions.ConnectionError as errc:\\n                self.logger.error(\\\"Connection Error: %s\\\", errc)\\n                error = errc\\n                self.logger.info(\\n                    \\\"Don't give up! Trying to reconnect, retry %s of %s\\\",\\n                    retry + 1,\\n                    retries,\\n                )\\n                time.sleep(delay)\\n            except requests.exceptions.Timeout as errt:\\n                self.logger.error(\\\"Timeout Error: %s\\\", errt)\\n                error = errt\\n                self.logger.info(\\n                    \\\"Don't give up! Trying to reconnect, retry %s of %s\\\",\\n                    retry + 1,\\n                    retries,\\n                )\\n                time.sleep(delay)\\n            except requests.exceptions.RequestException as err:\\n                self.logger.error(\\\"OOps: Unexpected Error: %s\\\", err)\\n                error = err\\n                self.logger.info(\\n                    \\\"Don't give up! Trying to reconnect, retry %s of %s\\\",\\n                    retry + 1,\\n                    retries,\\n                )\\n                time.sleep(delay)\\n\\n        return r, error\\n\\n    def install_requests(self):\\n        if self.install.shape[0] == 0:\\n            return \\n        url = self.BASE_URL\\n        for af_sub1 in self.install['af_sub1']:\\n            params = [\\n                [\\\"cnv_id\\\", af_sub1],\\n                [\\\"cnv_status\\\", \\\"install\\\"],\\n                [\\\"event1\\\", 1],\\n            ]\\n            response, error = self.requests_call('GET', url=url, params=params)\\n        \\n    def trial_requests(self):\\n        if self.trial.shape[0] == 0:\\n            return\\n        url = self.BASE_URL\\n        for af_sub1 in self.trial['af_sub1']:\\n            params = [\\n                [\\\"cnv_id\\\", af_sub1],\\n                [\\\"cnv_status\\\", \\\"trial_started\\\"],\\n                [\\\"event2\\\", 1],\\n            ]\\n            response, error = self.requests_call('GET', url=url, params=params)\\n        \\n    def activation_requests(self):\\n        if self.activation.shape[0] == 0:\\n            return\\n        url = self.BASE_URL\\n        for af_sub1 in self.activation['af_sub1']:\\n            params = [\\n                [\\\"cnv_id\\\", af_sub1],\\n                [\\\"cnv_status\\\", \\\"trial_converted\\\"],\\n                [\\\"event4\\\", 1],\\n            ]\\n            response, error = self.requests_call('GET', url=url, params=params)\";\n",
       "                var nbb_formatted_code = \"class EventProcessor:\\n    BASE_URL = cfg.BASE_URL\\n    logger = get_cls_logger(__qualname__)\\n\\n    def __init__(self, **kwargs):\\n        \\\"\\\"\\\"\\n        Constructor func, gets events DataFrame and makes an instance.\\n        \\\"\\\"\\\"\\n        self.events_df = kwargs.get(\\\"events\\\")\\n        self.install = self.events_df[self.events_df[\\\"event_name\\\"] == \\\"install\\\"]\\n        self.trial = self.events_df[self.events_df[\\\"event_name\\\"] == \\\"af_start_trial\\\"]\\n        self.activation = self.events_df[self.events_df[\\\"event_name\\\"] == \\\"af_subscribe\\\"]\\n        self.logger.debug(\\\"Make an instance of %s class\\\", self.__class__.__name__)\\n\\n    def requests_call(\\n        self, verb: str, url: str, params=None, void=False, **kwargs\\n    ) -> tuple:\\n        \\\"\\\"\\\"\\n        Wraping func for requests with errors handling.\\n\\n        :param verb:\\n            str Method of request ``get`` or ``post``.\\n        :param url:\\n            str URL to connect.\\n        :return:\\n            Returns a tuple of response object and error.\\n            If an error occurs, the response will be empty\\n            and vice versa otherwise.\\n        \\\"\\\"\\\"\\n        r: object = None\\n        error: str = None\\n        retries: int = 10\\n        delay: int = 6\\n\\n        for retry in range(retries):\\n            try:\\n                self.logger.info(\\\"Try %s request %s\\\", verb, url)\\n                r = requests.request(verb, url, params=params)\\n                r.raise_for_status()\\n                self.logger.info(\\n                    \\\"Get answer with status code: %s %s\\\", r.status_code, r.reason\\n                )\\n                return r, error\\n            except requests.exceptions.HTTPError as errh:\\n                self.logger.error(\\\"Http Error: %s\\\", errh)\\n                error = errh\\n                self.logger.info(\\n                    \\\"Don't give up! Trying to reconnect, retry %s of %s\\\",\\n                    retry + 1,\\n                    retries,\\n                )\\n                time.sleep(delay)\\n            except requests.exceptions.ConnectionError as errc:\\n                self.logger.error(\\\"Connection Error: %s\\\", errc)\\n                error = errc\\n                self.logger.info(\\n                    \\\"Don't give up! Trying to reconnect, retry %s of %s\\\",\\n                    retry + 1,\\n                    retries,\\n                )\\n                time.sleep(delay)\\n            except requests.exceptions.Timeout as errt:\\n                self.logger.error(\\\"Timeout Error: %s\\\", errt)\\n                error = errt\\n                self.logger.info(\\n                    \\\"Don't give up! Trying to reconnect, retry %s of %s\\\",\\n                    retry + 1,\\n                    retries,\\n                )\\n                time.sleep(delay)\\n            except requests.exceptions.RequestException as err:\\n                self.logger.error(\\\"OOps: Unexpected Error: %s\\\", err)\\n                error = err\\n                self.logger.info(\\n                    \\\"Don't give up! Trying to reconnect, retry %s of %s\\\",\\n                    retry + 1,\\n                    retries,\\n                )\\n                time.sleep(delay)\\n\\n        return r, error\\n\\n    def install_requests(self):\\n        if self.install.shape[0] == 0:\\n            return\\n        url = self.BASE_URL\\n        for af_sub1 in self.install[\\\"af_sub1\\\"]:\\n            params = [\\n                [\\\"cnv_id\\\", af_sub1],\\n                [\\\"cnv_status\\\", \\\"install\\\"],\\n                [\\\"event1\\\", 1],\\n            ]\\n            response, error = self.requests_call(\\\"GET\\\", url=url, params=params)\\n\\n    def trial_requests(self):\\n        if self.trial.shape[0] == 0:\\n            return\\n        url = self.BASE_URL\\n        for af_sub1 in self.trial[\\\"af_sub1\\\"]:\\n            params = [\\n                [\\\"cnv_id\\\", af_sub1],\\n                [\\\"cnv_status\\\", \\\"trial_started\\\"],\\n                [\\\"event2\\\", 1],\\n            ]\\n            response, error = self.requests_call(\\\"GET\\\", url=url, params=params)\\n\\n    def activation_requests(self):\\n        if self.activation.shape[0] == 0:\\n            return\\n        url = self.BASE_URL\\n        for af_sub1 in self.activation[\\\"af_sub1\\\"]:\\n            params = [\\n                [\\\"cnv_id\\\", af_sub1],\\n                [\\\"cnv_status\\\", \\\"trial_converted\\\"],\\n                [\\\"event4\\\", 1],\\n            ]\\n            response, error = self.requests_call(\\\"GET\\\", url=url, params=params)\";\n",
       "                var nbb_cells = Jupyter.notebook.get_cells();\n",
       "                for (var i = 0; i < nbb_cells.length; ++i) {\n",
       "                    if (nbb_cells[i].input_prompt_number == nbb_cell_id) {\n",
       "                        if (nbb_cells[i].get_text() == nbb_unformatted_code) {\n",
       "                             nbb_cells[i].set_text(nbb_formatted_code);\n",
       "                        }\n",
       "                        break;\n",
       "                    }\n",
       "                }\n",
       "            }, 500);\n",
       "            "
      ],
      "text/plain": [
       "<IPython.core.display.Javascript object>"
      ]
     },
     "metadata": {},
     "output_type": "display_data"
    }
   ],
   "source": [
    "class EventProcessor:\n",
    "    BASE_URL = cfg.BASE_URL\n",
    "    logger = get_cls_logger(__qualname__)\n",
    "    \n",
    "    def __init__(self, **kwargs):\n",
    "        \"\"\"\n",
    "        Constructor func, gets events DataFrame and makes an instance.\n",
    "        \"\"\"\n",
    "        self.events_df = kwargs.get(\"events\")\n",
    "        self.install = self.events_df[self.events_df['event_name'] == 'install']\n",
    "        self.trial = self.events_df[self.events_df['event_name'] == 'af_start_trial']\n",
    "        self.activation = self.events_df[self.events_df['event_name'] == 'af_subscribe']\n",
    "        self.logger.debug(\"Make an instance of %s class\", self.__class__.__name__)\n",
    "\n",
    "    def requests_call(\n",
    "        self, \n",
    "        verb: str, \n",
    "        url: str, \n",
    "        params=None, \n",
    "        void=False, \n",
    "        **kwargs) -> tuple:\n",
    "        \"\"\"\n",
    "        Wraping func for requests with errors handling.\n",
    "\n",
    "        :param verb:\n",
    "            str Method of request ``get`` or ``post``.\n",
    "        :param url:\n",
    "            str URL to connect.\n",
    "        :return:\n",
    "            Returns a tuple of response object and error.\n",
    "            If an error occurs, the response will be empty\n",
    "            and vice versa otherwise.\n",
    "        \"\"\"\n",
    "        r: object = None\n",
    "        error: str = None\n",
    "        retries: int = 10\n",
    "        delay: int = 6\n",
    "\n",
    "        for retry in range(retries):\n",
    "            try:\n",
    "                self.logger.info(\"Try %s request %s\", verb, url)\n",
    "                r = requests.request(verb, url, params=params)\n",
    "                r.raise_for_status()\n",
    "                self.logger.info(\n",
    "                    \"Get answer with status code: %s %s\", r.status_code, r.reason\n",
    "                )\n",
    "                return r, error\n",
    "            except requests.exceptions.HTTPError as errh:\n",
    "                self.logger.error(\"Http Error: %s\", errh)\n",
    "                error = errh\n",
    "                self.logger.info(\n",
    "                    \"Don't give up! Trying to reconnect, retry %s of %s\",\n",
    "                    retry + 1,\n",
    "                    retries,\n",
    "                )\n",
    "                time.sleep(delay)\n",
    "            except requests.exceptions.ConnectionError as errc:\n",
    "                self.logger.error(\"Connection Error: %s\", errc)\n",
    "                error = errc\n",
    "                self.logger.info(\n",
    "                    \"Don't give up! Trying to reconnect, retry %s of %s\",\n",
    "                    retry + 1,\n",
    "                    retries,\n",
    "                )\n",
    "                time.sleep(delay)\n",
    "            except requests.exceptions.Timeout as errt:\n",
    "                self.logger.error(\"Timeout Error: %s\", errt)\n",
    "                error = errt\n",
    "                self.logger.info(\n",
    "                    \"Don't give up! Trying to reconnect, retry %s of %s\",\n",
    "                    retry + 1,\n",
    "                    retries,\n",
    "                )\n",
    "                time.sleep(delay)\n",
    "            except requests.exceptions.RequestException as err:\n",
    "                self.logger.error(\"OOps: Unexpected Error: %s\", err)\n",
    "                error = err\n",
    "                self.logger.info(\n",
    "                    \"Don't give up! Trying to reconnect, retry %s of %s\",\n",
    "                    retry + 1,\n",
    "                    retries,\n",
    "                )\n",
    "                time.sleep(delay)\n",
    "\n",
    "        return r, error\n",
    "\n",
    "    def install_requests(self):\n",
    "        if self.install.shape[0] == 0:\n",
    "            return \n",
    "        url = self.BASE_URL\n",
    "        for af_sub1 in self.install['af_sub1']:\n",
    "            params = [\n",
    "                [\"cnv_id\", af_sub1],\n",
    "                [\"cnv_status\", \"install\"],\n",
    "                [\"event1\", 1],\n",
    "            ]\n",
    "            response, error = self.requests_call('GET', url=url, params=params)\n",
    "        \n",
    "    def trial_requests(self):\n",
    "        if self.trial.shape[0] == 0:\n",
    "            return\n",
    "        url = self.BASE_URL\n",
    "        for af_sub1 in self.trial['af_sub1']:\n",
    "            params = [\n",
    "                [\"cnv_id\", af_sub1],\n",
    "                [\"cnv_status\", \"trial_started\"],\n",
    "                [\"event2\", 1],\n",
    "            ]\n",
    "            response, error = self.requests_call('GET', url=url, params=params)\n",
    "        \n",
    "    def activation_requests(self):\n",
    "        if self.activation.shape[0] == 0:\n",
    "            return\n",
    "        url = self.BASE_URL\n",
    "        for af_sub1 in self.activation['af_sub1']:\n",
    "            params = [\n",
    "                [\"cnv_id\", af_sub1],\n",
    "                [\"cnv_status\", \"trial_converted\"],\n",
    "                [\"event4\", 1],\n",
    "            ]\n",
    "            response, error = self.requests_call('GET', url=url, params=params)"
   ]
  },
  {
   "cell_type": "code",
   "execution_count": 10,
   "id": "fb664ef3-9cf5-484a-98ba-e01202b29afe",
   "metadata": {},
   "outputs": [
    {
     "data": {
      "application/javascript": [
       "\n",
       "            setTimeout(function() {\n",
       "                var nbb_cell_id = 10;\n",
       "                var nbb_unformatted_code = \"dwh = ClickHouseConnector(\\n    host=cfg.CLICKHOUSE_HOST,\\n    user=cfg.CLICKHOUSE_USER,\\n    password=cfg.CLICKHOUSE_PASS,\\n    port=cfg.CLICKHOUSE_PORT\\n)\\n\\ndf = dwh.fetch_new_events()\\n\\ndel dwh\";\n",
       "                var nbb_formatted_code = \"dwh = ClickHouseConnector(\\n    host=cfg.CLICKHOUSE_HOST,\\n    user=cfg.CLICKHOUSE_USER,\\n    password=cfg.CLICKHOUSE_PASS,\\n    port=cfg.CLICKHOUSE_PORT,\\n)\\n\\ndf = dwh.fetch_new_events()\\n\\ndel dwh\";\n",
       "                var nbb_cells = Jupyter.notebook.get_cells();\n",
       "                for (var i = 0; i < nbb_cells.length; ++i) {\n",
       "                    if (nbb_cells[i].input_prompt_number == nbb_cell_id) {\n",
       "                        if (nbb_cells[i].get_text() == nbb_unformatted_code) {\n",
       "                             nbb_cells[i].set_text(nbb_formatted_code);\n",
       "                        }\n",
       "                        break;\n",
       "                    }\n",
       "                }\n",
       "            }, 500);\n",
       "            "
      ],
      "text/plain": [
       "<IPython.core.display.Javascript object>"
      ]
     },
     "metadata": {},
     "output_type": "display_data"
    }
   ],
   "source": [
    "dwh = ClickHouseConnector(\n",
    "    host=cfg.CLICKHOUSE_HOST,\n",
    "    user=cfg.CLICKHOUSE_USER,\n",
    "    password=cfg.CLICKHOUSE_PASS,\n",
    "    port=cfg.CLICKHOUSE_PORT\n",
    ")\n",
    "\n",
    "df = dwh.fetch_new_events()\n",
    "\n",
    "del dwh"
   ]
  },
  {
   "cell_type": "code",
   "execution_count": null,
   "id": "08206e3a-9a16-4224-b72b-e9cfaa3556b0",
   "metadata": {},
   "outputs": [],
   "source": [
    "if not df.empty:\n",
    "    evs = EventProcessor(events=df)\n",
    "    evs.install_requests()\n",
    "    evs.trial_requests()\n",
    "    evs.activation_requests()"
   ]
  },
  {
   "cell_type": "code",
   "execution_count": 11,
   "id": "ecc8b5dc-0ee9-4e07-a6a1-bd52b920dab2",
   "metadata": {},
   "outputs": [
    {
     "data": {
      "application/javascript": [
       "\n",
       "            setTimeout(function() {\n",
       "                var nbb_cell_id = 11;\n",
       "                var nbb_unformatted_code = \"evnts = EventProcessor(events=df)\";\n",
       "                var nbb_formatted_code = \"evnts = EventProcessor(events=df)\";\n",
       "                var nbb_cells = Jupyter.notebook.get_cells();\n",
       "                for (var i = 0; i < nbb_cells.length; ++i) {\n",
       "                    if (nbb_cells[i].input_prompt_number == nbb_cell_id) {\n",
       "                        if (nbb_cells[i].get_text() == nbb_unformatted_code) {\n",
       "                             nbb_cells[i].set_text(nbb_formatted_code);\n",
       "                        }\n",
       "                        break;\n",
       "                    }\n",
       "                }\n",
       "            }, 500);\n",
       "            "
      ],
      "text/plain": [
       "<IPython.core.display.Javascript object>"
      ]
     },
     "metadata": {},
     "output_type": "display_data"
    }
   ],
   "source": [
    "evnts = EventProcessor(events=df)"
   ]
  },
  {
   "cell_type": "code",
   "execution_count": 12,
   "id": "5c92c58b-1b38-44d3-bc4f-cbfa73d7e52c",
   "metadata": {},
   "outputs": [
    {
     "data": {
      "text/html": [
       "<div>\n",
       "<style scoped>\n",
       "    .dataframe tbody tr th:only-of-type {\n",
       "        vertical-align: middle;\n",
       "    }\n",
       "\n",
       "    .dataframe tbody tr th {\n",
       "        vertical-align: top;\n",
       "    }\n",
       "\n",
       "    .dataframe thead th {\n",
       "        text-align: right;\n",
       "    }\n",
       "</style>\n",
       "<table border=\"1\" class=\"dataframe\">\n",
       "  <thead>\n",
       "    <tr style=\"text-align: right;\">\n",
       "      <th></th>\n",
       "      <th>event_time</th>\n",
       "      <th>event_name</th>\n",
       "      <th>af_sub1</th>\n",
       "    </tr>\n",
       "  </thead>\n",
       "  <tbody>\n",
       "    <tr>\n",
       "      <th>0</th>\n",
       "      <td>2024-01-17 13:39:50</td>\n",
       "      <td>af_start_trial</td>\n",
       "      <td>Adsterra Network - CPI</td>\n",
       "    </tr>\n",
       "    <tr>\n",
       "      <th>1</th>\n",
       "      <td>2024-01-17 11:54:18</td>\n",
       "      <td>install</td>\n",
       "      <td>PropellerAds - CPT</td>\n",
       "    </tr>\n",
       "    <tr>\n",
       "      <th>2</th>\n",
       "      <td>2024-01-17 09:49:59</td>\n",
       "      <td>install</td>\n",
       "      <td>Adsterra Network - CPI</td>\n",
       "    </tr>\n",
       "  </tbody>\n",
       "</table>\n",
       "</div>"
      ],
      "text/plain": [
       "            event_time      event_name                 af_sub1\n",
       "0  2024-01-17 13:39:50  af_start_trial  Adsterra Network - CPI\n",
       "1  2024-01-17 11:54:18         install      PropellerAds - CPT\n",
       "2  2024-01-17 09:49:59         install  Adsterra Network - CPI"
      ]
     },
     "execution_count": 12,
     "metadata": {},
     "output_type": "execute_result"
    },
    {
     "data": {
      "application/javascript": [
       "\n",
       "            setTimeout(function() {\n",
       "                var nbb_cell_id = 12;\n",
       "                var nbb_unformatted_code = \"evnts.events_df\";\n",
       "                var nbb_formatted_code = \"evnts.events_df\";\n",
       "                var nbb_cells = Jupyter.notebook.get_cells();\n",
       "                for (var i = 0; i < nbb_cells.length; ++i) {\n",
       "                    if (nbb_cells[i].input_prompt_number == nbb_cell_id) {\n",
       "                        if (nbb_cells[i].get_text() == nbb_unformatted_code) {\n",
       "                             nbb_cells[i].set_text(nbb_formatted_code);\n",
       "                        }\n",
       "                        break;\n",
       "                    }\n",
       "                }\n",
       "            }, 500);\n",
       "            "
      ],
      "text/plain": [
       "<IPython.core.display.Javascript object>"
      ]
     },
     "metadata": {},
     "output_type": "display_data"
    }
   ],
   "source": [
    "evnts.events_df"
   ]
  },
  {
   "cell_type": "code",
   "execution_count": null,
   "id": "f00531dd-d6e9-4192-baa4-90d162643ef8",
   "metadata": {},
   "outputs": [],
   "source": [
    "for af_sub1 in evnts.install['af_sub1']:\n",
    "    print(af_sub1)"
   ]
  },
  {
   "cell_type": "code",
   "execution_count": 9,
   "id": "1d2bd154-290e-4f40-a024-7b8e43828b85",
   "metadata": {},
   "outputs": [
    {
     "data": {
      "application/javascript": [
       "\n",
       "            setTimeout(function() {\n",
       "                var nbb_cell_id = 9;\n",
       "                var nbb_unformatted_code = \"json_file_path = os.path.join(os.path.abspath(''), 'var_storage.json')\\nprev_rows_number = 8\\n\\nwith open(json_file_path, 'w') as file:\\n    json.dump({'prev_rows_number': prev_rows_number}, file)\";\n",
       "                var nbb_formatted_code = \"json_file_path = os.path.join(os.path.abspath(\\\"\\\"), \\\"var_storage.json\\\")\\nprev_rows_number = 8\\n\\nwith open(json_file_path, \\\"w\\\") as file:\\n    json.dump({\\\"prev_rows_number\\\": prev_rows_number}, file)\";\n",
       "                var nbb_cells = Jupyter.notebook.get_cells();\n",
       "                for (var i = 0; i < nbb_cells.length; ++i) {\n",
       "                    if (nbb_cells[i].input_prompt_number == nbb_cell_id) {\n",
       "                        if (nbb_cells[i].get_text() == nbb_unformatted_code) {\n",
       "                             nbb_cells[i].set_text(nbb_formatted_code);\n",
       "                        }\n",
       "                        break;\n",
       "                    }\n",
       "                }\n",
       "            }, 500);\n",
       "            "
      ],
      "text/plain": [
       "<IPython.core.display.Javascript object>"
      ]
     },
     "metadata": {},
     "output_type": "display_data"
    }
   ],
   "source": [
    "json_file_path = os.path.join(os.path.abspath(''), 'var_storage.json')\n",
    "prev_rows_number = 8\n",
    "\n",
    "with open(json_file_path, 'w') as file:\n",
    "    json.dump({'prev_rows_number': prev_rows_number}, file)\n"
   ]
  },
  {
   "cell_type": "code",
   "execution_count": null,
   "id": "a6e126c8-00ac-45fc-875f-c21e2de3e163",
   "metadata": {},
   "outputs": [],
   "source": []
  }
 ],
 "metadata": {
  "kernelspec": {
   "display_name": "venv",
   "language": "python",
   "name": "venv"
  },
  "language_info": {
   "codemirror_mode": {
    "name": "ipython",
    "version": 3
   },
   "file_extension": ".py",
   "mimetype": "text/x-python",
   "name": "python",
   "nbconvert_exporter": "python",
   "pygments_lexer": "ipython3",
   "version": "3.11.6"
  }
 },
 "nbformat": 4,
 "nbformat_minor": 5
}
